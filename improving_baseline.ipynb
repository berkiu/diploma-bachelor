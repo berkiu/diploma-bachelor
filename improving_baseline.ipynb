{
 "cells": [
  {
   "cell_type": "code",
   "execution_count": 1,
   "metadata": {},
   "outputs": [],
   "source": [
    "import os\n",
    "import pandas as pd\n",
    "from xgboost import XGBClassifier\n",
    "from method import analyze_features\n",
    "from data_preprocess import *\n",
    "from cross_validate import *\n",
    "import warnings\n",
    "warnings.filterwarnings(\"ignore\")"
   ]
  },
  {
   "cell_type": "code",
   "execution_count": 2,
   "metadata": {},
   "outputs": [],
   "source": [
    "root = '/home/kirb/work/ISP-projects/xgboost_diploma/'"
   ]
  },
  {
   "cell_type": "code",
   "execution_count": 3,
   "metadata": {},
   "outputs": [
    {
     "name": "stderr",
     "output_type": "stream",
     "text": [
      "100%|█████████▉| 1499/1500 [00:00<00:00, 11864.66it/s]\n",
      "100%|█████████▉| 1499/1500 [00:00<00:00, 10568.71it/s]\n",
      "100%|██████████| 1500/1500 [02:27<00:00, 10.19it/s]\n",
      "100%|██████████| 1500/1500 [00:36<00:00, 41.04it/s]\n"
     ]
    }
   ],
   "source": [
    "law_nan_features, law_zero_features, law_100_features, law_1000_features, law_10000_features = analyze_features(root, 'law', 5)"
   ]
  },
  {
   "cell_type": "code",
   "execution_count": 5,
   "metadata": {},
   "outputs": [
    {
     "data": {
      "text/plain": [
       "['current_regexp',\n",
       " 'current_regexp_next_3',\n",
       " 'current_regexp_prev_3',\n",
       " 'endswith_colon_next_1',\n",
       " 'endswith_comma',\n",
       " 'endswith_comma_prev_1',\n",
       " 'endswith_comma_prev_2',\n",
       " 'roman_regexp_next_1',\n",
       " 'roman_regexp_next_2',\n",
       " 'roman_regexp_next_3',\n",
       " 'start_regexp_0_subitem_next_1',\n",
       " 'start_regexp_0_subitem_next_2',\n",
       " 'start_regexp_0_subitem_next_3',\n",
       " 'start_regexp_0_subitem_prev_1',\n",
       " 'start_regexp_0_subitem_prev_2',\n",
       " 'start_regexp_0_subitem_prev_3',\n",
       " 'start_regexp_1_item',\n",
       " 'start_regexp_1_item_next_1',\n",
       " 'start_regexp_1_item_prev_1',\n",
       " 'start_regexp_1_item_prev_3',\n",
       " 'start_regexp_num_matches_named',\n",
       " 'start_regexp_num_matches_named_next_1',\n",
       " 'start_regexp_num_matches_named_next_2',\n",
       " 'start_regexp_num_matches_named_next_3',\n",
       " 'start_regexp_num_matches_named_prev_2',\n",
       " 'start_regexp_num_matches_subitem',\n",
       " 'start_regexp_num_matches_subitem_next_1',\n",
       " 'start_regexp_num_matches_subitem_next_2',\n",
       " 'start_regexp_num_matches_subitem_next_3',\n",
       " 'start_regexp_num_matches_subitem_prev_1',\n",
       " 'start_regexp_num_matches_subitem_prev_2',\n",
       " 'start_regexp_num_matches_subitem_prev_3',\n",
       " 'startswith_quote_next_1',\n",
       " 'startswith_quote_next_3',\n",
       " 'subitem_regexp_len',\n",
       " 'subitem_regexp_len_next_2',\n",
       " 'subitem_regexp_len_prev_1',\n",
       " 'subitem_regexp_len_prev_3',\n",
       " 'subitem_regexp_num',\n",
       " 'subitem_regexp_num_next_3',\n",
       " 'subitem_regexp_num_prev_1',\n",
       " 'subitem_regexp_num_prev_3',\n",
       " 'year_regexp_prev_2']"
      ]
     },
     "execution_count": 5,
     "metadata": {},
     "output_type": "execute_result"
    }
   ],
   "source": [
    "law_nan_features"
   ]
  },
  {
   "cell_type": "code",
   "execution_count": 6,
   "metadata": {},
   "outputs": [
    {
     "data": {
      "text/plain": [
       "['current_regexp_next_2',\n",
       " 'regexp_application_begin_next_1',\n",
       " 'regexp_application_begin_next_2',\n",
       " 'startswith_quote_next_2']"
      ]
     },
     "execution_count": 6,
     "metadata": {},
     "output_type": "execute_result"
    }
   ],
   "source": [
    "law_zero_features"
   ]
  },
  {
   "cell_type": "code",
   "execution_count": 7,
   "metadata": {},
   "outputs": [
    {
     "data": {
      "text/plain": [
       "['current_regexp_prev_1',\n",
       " 'endswith_colon_prev_1',\n",
       " 'prev_is_space',\n",
       " 'regexp_application_begin_next_3',\n",
       " 'subitem_regexp_len_next_3',\n",
       " 'subitem_regexp_len_prev_2']"
      ]
     },
     "execution_count": 7,
     "metadata": {},
     "output_type": "execute_result"
    }
   ],
   "source": [
    "law_100_features"
   ]
  },
  {
   "cell_type": "code",
   "execution_count": 4,
   "metadata": {},
   "outputs": [
    {
     "name": "stderr",
     "output_type": "stream",
     "text": [
      "100%|█████████▉| 1499/1500 [00:00<00:00, 17283.05it/s]\n",
      "100%|█████████▉| 1499/1500 [00:00<00:00, 31127.99it/s]\n",
      "100%|██████████| 1500/1500 [00:15<00:00, 94.25it/s] \n",
      "100%|██████████| 1500/1500 [00:03<00:00, 489.96it/s]\n"
     ]
    }
   ],
   "source": [
    "tz_nan_features, tz_zero_features, tz_100_features, tz_1000_features, tz_10000_features = analyze_features(root, 'tz', 5)"
   ]
  },
  {
   "cell_type": "code",
   "execution_count": 8,
   "metadata": {},
   "outputs": [
    {
     "data": {
      "text/plain": [
       "['day_month_regexp',\n",
       " 'day_month_regexp_next_1',\n",
       " 'day_month_regexp_next_3',\n",
       " 'day_month_regexp_prev_1',\n",
       " 'day_month_regexp_prev_3',\n",
       " 'is_toc_line_next_1',\n",
       " 'is_toc_line_next_2',\n",
       " 'is_toc_line_next_3',\n",
       " 'is_toc_line_prev_1',\n",
       " 'is_toc_line_prev_2',\n",
       " 'is_toc_line_prev_3',\n",
       " 'is_tz_line_next_3',\n",
       " 'is_upper_next_3',\n",
       " 'start_regexp_0_next_1',\n",
       " 'start_regexp_0_next_2',\n",
       " 'start_regexp_0_next_3',\n",
       " 'start_regexp_0_prev_1',\n",
       " 'start_regexp_0_prev_2',\n",
       " 'start_regexp_1_next_1',\n",
       " 'start_regexp_1_next_2',\n",
       " 'start_regexp_1_next_3',\n",
       " 'start_regexp_1_prev_1',\n",
       " 'start_regexp_1_prev_2',\n",
       " 'start_regexp_1_prev_3',\n",
       " 'start_regexp_3',\n",
       " 'start_regexp_3_next_1',\n",
       " 'start_regexp_3_next_2',\n",
       " 'start_regexp_3_next_3',\n",
       " 'start_regexp_3_prev_1',\n",
       " 'start_regexp_3_prev_2',\n",
       " 'start_regexp_3_prev_3',\n",
       " 'year_regexp_next_2']"
      ]
     },
     "execution_count": 8,
     "metadata": {},
     "output_type": "execute_result"
    }
   ],
   "source": [
    "tz_nan_features"
   ]
  },
  {
   "cell_type": "code",
   "execution_count": 9,
   "metadata": {},
   "outputs": [
    {
     "data": {
      "text/plain": [
       "['start_regexp_1']"
      ]
     },
     "execution_count": 9,
     "metadata": {},
     "output_type": "execute_result"
    }
   ],
   "source": [
    "tz_zero_features"
   ]
  },
  {
   "cell_type": "code",
   "execution_count": 10,
   "metadata": {},
   "outputs": [
    {
     "data": {
      "text/plain": [
       "['dot_number_regexp_len_next_1', 'named_item_regexp_prev_3']"
      ]
     },
     "execution_count": 10,
     "metadata": {},
     "output_type": "execute_result"
    }
   ],
   "source": [
    "tz_100_features"
   ]
  },
  {
   "cell_type": "markdown",
   "metadata": {},
   "source": [
    "__TESTS:__"
   ]
  },
  {
   "cell_type": "markdown",
   "metadata": {},
   "source": [
    "1: nan\\\n",
    "2: nan + 100\\\n",
    "3: nan + 1000\\\n",
    "4: nan + 10000\\\n",
    "5: nan + zero\\\n",
    "6: nan + zero + 100\\\n",
    "7: nan + zero + 1000\\\n",
    "8: nan + zero + 10000\\\n",
    "9: zero\\\n",
    "10: zero + 100\\\n",
    "11: zero + 1000\\\n",
    "12: zero + 10000\\\n",
    "13: 100\\\n",
    "14: 1000\\\n",
    "15: 10000"
   ]
  },
  {
   "cell_type": "code",
   "execution_count": 71,
   "metadata": {},
   "outputs": [],
   "source": [
    "def test_func(law_features_to_drop, tz_features_to_drop):\n",
    "    law = pd.read_csv(os.path.join(root, 'law/dataset_prepared/dataset.csv'), index_col=0)\n",
    "    tz = pd.read_csv(os.path.join(root, 'tz/dataset_prepared/dataset.csv'), index_col=0)\n",
    "    \n",
    "    for feature in law_features_to_drop:\n",
    "        law.drop([feature], axis=1, inplace=True)\n",
    "        \n",
    "    for feature in tz_features_to_drop:\n",
    "        tz.drop([feature], axis=1, inplace=True)\n",
    "        \n",
    "    law_prepared = data_preprocessing(law, type='law')\n",
    "    tz_prepared = data_preprocessing(tz, type='tz')\n",
    "    \n",
    "    law_dfs_of_every_doc = split_data_by_docs(law_prepared)\n",
    "    tz_dfs_of_every_doc = split_data_by_docs(tz_prepared)\n",
    "    \n",
    "    law_train_val, law_test = my_train_test_split(law_dfs_of_every_doc, test_size=0.8)\n",
    "    tz_train_val, tz_test = my_train_test_split(tz_dfs_of_every_doc, test_size=0.8)\n",
    "    \n",
    "    law_model = XGBClassifier(learning_rate=0.8,\n",
    "                              n_estimators=300,\n",
    "                              booster=\"gbtree\",\n",
    "                              tree_method=\"gpu_hist\",\n",
    "                              max_depth=5,\n",
    "                              random_state=42,\n",
    "                              verbosity=0)\n",
    "\n",
    "    tz_model = XGBClassifier(learning_rate=0.8,\n",
    "                             n_estimators=300,\n",
    "                             booster=\"gbtree\",\n",
    "                             tree_method=\"gpu_hist\",\n",
    "                             max_depth=5,\n",
    "                             random_state=42,\n",
    "                             verbosity=0)\n",
    "    \n",
    "    _, _, _, law_metrics = my_cross_validate(law_model, law_train_val, law_test)\n",
    "    _, _, _, tz_metrics = my_cross_validate(tz_model, tz_train_val, tz_test)\n",
    "    \n",
    "    main_key = 'other_test_metrics'\n",
    "    \n",
    "    print('baseline law results:\\n')\n",
    "    print('best_train_accuracy: {}\\n'.format(law_metrics['best_train_accuracy']))\n",
    "    print('test_accuracy: {}'.format(law_metrics['test_accuracy']))\n",
    "    for metric in law_metrics[main_key].keys():\n",
    "        print(f'\\n{metric}:')\n",
    "        for average in law_metrics[main_key][metric].keys():\n",
    "            print(f'{average}: {law_metrics[main_key][metric][average]}')\n",
    "            \n",
    "    print('baseline tz results:\\n')\n",
    "    print('best_train_accuracy: {}\\n'.format(tz_metrics['best_train_accuracy']))\n",
    "    print('test_accuracy: {}'.format(tz_metrics['test_accuracy']))\n",
    "    for metric in tz_metrics[main_key].keys():\n",
    "        print(f'\\n{metric}:')\n",
    "        for average in tz_metrics[main_key][metric].keys():\n",
    "            print(f'{average}: {tz_metrics[main_key][metric][average]}')"
   ]
  },
  {
   "cell_type": "markdown",
   "metadata": {},
   "source": [
    "__TEST 1:__"
   ]
  },
  {
   "cell_type": "code",
   "execution_count": 72,
   "metadata": {},
   "outputs": [
    {
     "name": "stdout",
     "output_type": "stream",
     "text": [
      "law data successfully preprocessed\n",
      "tz data successfully preprocessed\n",
      "starting cross validate\n",
      "starting cross validate\n",
      "baseline law results:\n",
      "\n",
      "best_train_accuracy: 0.9881831610044313\n",
      "\n",
      "test_accuracy: 0.9829529037850332\n",
      "\n",
      "f1:\n",
      "None: [0.84805654 0.98398398 0.98905814 0.88372093 0.89      ]\n",
      "micro: 0.9829529037850332\n",
      "macro: 0.9189639186697244\n",
      "weighted: 0.9830514584945006\n",
      "\n",
      "precision:\n",
      "None: [0.82758621 0.9894313  0.98799829 0.9047619  0.86407767]\n",
      "micro: 0.9829529037850332\n",
      "macro: 0.9147710741006586\n",
      "weighted: 0.9832150676479011\n",
      "\n",
      "recall:\n",
      "None: [0.86956522 0.97859632 0.99012027 0.86363636 0.91752577]\n",
      "micro: 0.9829529037850332\n",
      "macro: 0.9238887891426089\n",
      "weighted: 0.9829529037850332\n",
      "\n",
      "roc_auc:\n",
      "macro: 0.9978144312951764\n",
      "weighted: 0.9977834151840235\n",
      "baseline tz results:\n",
      "\n",
      "best_train_accuracy: 0.9690721649484536\n",
      "\n",
      "test_accuracy: 0.9565217391304348\n",
      "\n",
      "f1:\n",
      "None: [0.93975904 0.78740157 0.9815818  0.92063492 0.98533724]\n",
      "micro: 0.9565217391304348\n",
      "macro: 0.922942914693523\n",
      "weighted: 0.9564135501605822\n",
      "\n",
      "precision:\n",
      "None: [0.94660194 0.79365079 0.98264642 0.90625    0.97674419]\n",
      "micro: 0.9565217391304348\n",
      "macro: 0.9211786684538346\n",
      "weighted: 0.9563906526724413\n",
      "\n",
      "recall:\n",
      "None: [0.93301435 0.78125    0.98051948 0.93548387 0.99408284]\n",
      "micro: 0.9565217391304348\n",
      "macro: 0.9248701091581788\n",
      "weighted: 0.9565217391304348\n",
      "\n",
      "roc_auc:\n",
      "macro: 0.9918086784139388\n",
      "weighted: 0.9950912366331469\n"
     ]
    }
   ],
   "source": [
    "test_func(law_nan_features, tz_nan_features)"
   ]
  },
  {
   "cell_type": "markdown",
   "metadata": {},
   "source": [
    "__TEST 2:__"
   ]
  },
  {
   "cell_type": "code",
   "execution_count": 73,
   "metadata": {},
   "outputs": [
    {
     "name": "stdout",
     "output_type": "stream",
     "text": [
      "law data successfully preprocessed\n",
      "tz data successfully preprocessed\n",
      "starting cross validate\n",
      "starting cross validate\n",
      "baseline law results:\n",
      "\n",
      "best_train_accuracy: 0.9876907927129492\n",
      "\n",
      "test_accuracy: 0.9815082346142733\n",
      "\n",
      "f1:\n",
      "None: [0.81403509 0.98374594 0.98808629 0.88372093 0.89      ]\n",
      "micro: 0.9815082346142733\n",
      "macro: 0.9119176496614789\n",
      "weighted: 0.9816504006403208\n",
      "\n",
      "precision:\n",
      "None: [0.78911565 0.98844221 0.98755632 0.9047619  0.86407767]\n",
      "micro: 0.9815082346142733\n",
      "macro: 0.9067907500730419\n",
      "weighted: 0.9818637497092075\n",
      "\n",
      "recall:\n",
      "None: [0.84057971 0.97909408 0.98861684 0.86363636 0.91752577]\n",
      "micro: 0.9815082346142733\n",
      "macro: 0.9178905524240385\n",
      "weighted: 0.9815082346142733\n",
      "\n",
      "roc_auc:\n",
      "macro: 0.9977712780274235\n",
      "weighted: 0.9976016845112655\n",
      "baseline tz results:\n",
      "\n",
      "best_train_accuracy: 0.9670103092783505\n",
      "\n",
      "test_accuracy: 0.9554865424430642\n",
      "\n",
      "f1:\n",
      "None: [0.94230769 0.8        0.97937025 0.91338583 0.97959184]\n",
      "micro: 0.9554865424430642\n",
      "macro: 0.9229311211085192\n",
      "weighted: 0.9552715369926565\n",
      "\n",
      "precision:\n",
      "None: [0.9468599  0.81967213 0.98257081 0.89230769 0.96551724]\n",
      "micro: 0.9554865424430642\n",
      "macro: 0.9213855548632808\n",
      "weighted: 0.9552752995183094\n",
      "\n",
      "recall:\n",
      "None: [0.93779904 0.78125    0.97619048 0.93548387 0.99408284]\n",
      "micro: 0.9554865424430642\n",
      "macro: 0.924961246091421\n",
      "weighted: 0.9554865424430642\n",
      "\n",
      "roc_auc:\n",
      "macro: 0.9917955922182307\n",
      "weighted: 0.9945772457356826\n"
     ]
    }
   ],
   "source": [
    "test_func(law_nan_features + law_100_features, tz_nan_features + tz_100_features)"
   ]
  },
  {
   "cell_type": "markdown",
   "metadata": {},
   "source": [
    "__TEST 3:__"
   ]
  },
  {
   "cell_type": "code",
   "execution_count": 74,
   "metadata": {},
   "outputs": [
    {
     "name": "stdout",
     "output_type": "stream",
     "text": [
      "law data successfully preprocessed\n",
      "tz data successfully preprocessed\n",
      "starting cross validate\n",
      "starting cross validate\n",
      "baseline law results:\n",
      "\n",
      "best_train_accuracy: 0.9896602658788775\n",
      "\n",
      "test_accuracy: 0.9815082346142733\n",
      "\n",
      "f1:\n",
      "None: [0.81403509 0.98374594 0.98808629 0.88372093 0.89      ]\n",
      "micro: 0.9815082346142733\n",
      "macro: 0.9119176496614789\n",
      "weighted: 0.9816504006403208\n",
      "\n",
      "precision:\n",
      "None: [0.78911565 0.98844221 0.98755632 0.9047619  0.86407767]\n",
      "micro: 0.9815082346142733\n",
      "macro: 0.9067907500730419\n",
      "weighted: 0.9818637497092075\n",
      "\n",
      "recall:\n",
      "None: [0.84057971 0.97909408 0.98861684 0.86363636 0.91752577]\n",
      "micro: 0.9815082346142733\n",
      "macro: 0.9178905524240385\n",
      "weighted: 0.9815082346142733\n",
      "\n",
      "roc_auc:\n",
      "macro: 0.9977712780274235\n",
      "weighted: 0.9976016845112655\n",
      "baseline tz results:\n",
      "\n",
      "best_train_accuracy: 0.9711340206185567\n",
      "\n",
      "test_accuracy: 0.9575569358178054\n",
      "\n",
      "f1:\n",
      "None: [0.93975904 0.78740157 0.98264642 0.93650794 0.98245614]\n",
      "micro: 0.9575569358178054\n",
      "macro: 0.9257542217261673\n",
      "weighted: 0.9574374384526222\n",
      "\n",
      "precision:\n",
      "None: [0.94660194 0.79365079 0.98478261 0.921875   0.97109827]\n",
      "micro: 0.9575569358178054\n",
      "macro: 0.9236017219979946\n",
      "weighted: 0.9574274107377857\n",
      "\n",
      "recall:\n",
      "None: [0.93301435 0.78125    0.98051948 0.9516129  0.99408284]\n",
      "micro: 0.9575569358178054\n",
      "macro: 0.9280959156097918\n",
      "weighted: 0.9575569358178054\n",
      "\n",
      "roc_auc:\n",
      "macro: 0.9907394330476578\n",
      "weighted: 0.9939694030831178\n"
     ]
    }
   ],
   "source": [
    "test_func(law_nan_features + law_1000_features, tz_nan_features + tz_1000_features)"
   ]
  },
  {
   "cell_type": "markdown",
   "metadata": {},
   "source": [
    "__TEST 4:__"
   ]
  },
  {
   "cell_type": "code",
   "execution_count": 75,
   "metadata": {},
   "outputs": [
    {
     "name": "stdout",
     "output_type": "stream",
     "text": [
      "law data successfully preprocessed\n",
      "tz data successfully preprocessed\n",
      "starting cross validate\n",
      "starting cross validate\n",
      "baseline law results:\n",
      "\n",
      "best_train_accuracy: 0.9876907927129492\n",
      "\n",
      "test_accuracy: 0.9813637676971974\n",
      "\n",
      "f1:\n",
      "None: [0.83032491 0.98323743 0.98756965 0.9047619  0.87755102]\n",
      "micro: 0.9813637676971974\n",
      "macro: 0.9166889831591915\n",
      "weighted: 0.9813724855383053\n",
      "\n",
      "precision:\n",
      "None: [0.82733813 0.98843058 0.98545766 0.95       0.86868687]\n",
      "micro: 0.9813637676971974\n",
      "macro: 0.9239826475601232\n",
      "weighted: 0.9814191241352678\n",
      "\n",
      "recall:\n",
      "None: [0.83333333 0.97809856 0.98969072 0.86363636 0.88659794]\n",
      "micro: 0.9813637676971974\n",
      "macro: 0.9102713826518561\n",
      "weighted: 0.9813637676971974\n",
      "\n",
      "roc_auc:\n",
      "macro: 0.9966972664044551\n",
      "weighted: 0.9974438934849834\n",
      "baseline tz results:\n",
      "\n",
      "best_train_accuracy: 0.9711340206185567\n",
      "\n",
      "test_accuracy: 0.9575569358178054\n",
      "\n",
      "f1:\n",
      "None: [0.93975904 0.78740157 0.98264642 0.93650794 0.98245614]\n",
      "micro: 0.9575569358178054\n",
      "macro: 0.9257542217261673\n",
      "weighted: 0.9574374384526222\n",
      "\n",
      "precision:\n",
      "None: [0.94660194 0.79365079 0.98478261 0.921875   0.97109827]\n",
      "micro: 0.9575569358178054\n",
      "macro: 0.9236017219979946\n",
      "weighted: 0.9574274107377857\n",
      "\n",
      "recall:\n",
      "None: [0.93301435 0.78125    0.98051948 0.9516129  0.99408284]\n",
      "micro: 0.9575569358178054\n",
      "macro: 0.9280959156097918\n",
      "weighted: 0.9575569358178054\n",
      "\n",
      "roc_auc:\n",
      "macro: 0.9907394330476578\n",
      "weighted: 0.9939694030831178\n"
     ]
    }
   ],
   "source": [
    "test_func(law_nan_features + law_10000_features, tz_nan_features + tz_10000_features)"
   ]
  },
  {
   "cell_type": "markdown",
   "metadata": {},
   "source": [
    "__TEST 5:__"
   ]
  },
  {
   "cell_type": "code",
   "execution_count": 84,
   "metadata": {},
   "outputs": [
    {
     "name": "stdout",
     "output_type": "stream",
     "text": [
      "law data successfully preprocessed\n",
      "tz data successfully preprocessed\n",
      "starting cross validate\n",
      "starting cross validate\n",
      "baseline law results:\n",
      "\n",
      "best_train_accuracy: 0.9891678975873953\n",
      "\n",
      "test_accuracy: 0.9802080323605894\n",
      "\n",
      "f1:\n",
      "None: [0.84805654 0.98250875 0.98668385 0.88372093 0.84313725]\n",
      "micro: 0.9802080323605894\n",
      "macro: 0.9088214633322858\n",
      "weighted: 0.9803695530591976\n",
      "\n",
      "precision:\n",
      "None: [0.82758621 0.98645258 0.98668385 0.9047619  0.80373832]\n",
      "micro: 0.9802080323605894\n",
      "macro: 0.9018445724513743\n",
      "weighted: 0.9806208489776974\n",
      "\n",
      "recall:\n",
      "None: [0.86956522 0.97859632 0.98668385 0.86363636 0.88659794]\n",
      "micro: 0.9802080323605894\n",
      "macro: 0.9170159369089319\n",
      "weighted: 0.9802080323605894\n",
      "\n",
      "roc_auc:\n",
      "macro: 0.9979035129499838\n",
      "weighted: 0.9974151333817914\n",
      "baseline tz results:\n",
      "\n",
      "best_train_accuracy: 0.9670103092783505\n",
      "\n",
      "test_accuracy: 0.9596273291925466\n",
      "\n",
      "f1:\n",
      "None: [0.94285714 0.816      0.98043478 0.92913386 0.98823529]\n",
      "micro: 0.9596273291925466\n",
      "macro: 0.9313322155702405\n",
      "weighted: 0.9594824806841004\n",
      "\n",
      "precision:\n",
      "None: [0.93838863 0.83606557 0.98471616 0.90769231 0.98245614]\n",
      "micro: 0.9596273291925466\n",
      "macro: 0.9298637609222666\n",
      "weighted: 0.959505481257939\n",
      "\n",
      "recall:\n",
      "None: [0.94736842 0.796875   0.97619048 0.9516129  0.99408284]\n",
      "micro: 0.9596273291925466\n",
      "macro: 0.93322592814112\n",
      "weighted: 0.9596273291925466\n",
      "\n",
      "roc_auc:\n",
      "macro: 0.9927093411044183\n",
      "weighted: 0.9954453459883196\n"
     ]
    }
   ],
   "source": [
    "test_func(law_nan_features + law_zero_features, tz_nan_features + tz_zero_features)"
   ]
  },
  {
   "cell_type": "markdown",
   "metadata": {},
   "source": [
    "__TEST 6:__"
   ]
  },
  {
   "cell_type": "code",
   "execution_count": 85,
   "metadata": {},
   "outputs": [
    {
     "name": "stdout",
     "output_type": "stream",
     "text": [
      "law data successfully preprocessed\n",
      "tz data successfully preprocessed\n",
      "starting cross validate\n",
      "starting cross validate\n",
      "baseline law results:\n",
      "\n",
      "best_train_accuracy: 0.9886755292959133\n",
      "\n",
      "test_accuracy: 0.9813637676971974\n",
      "\n",
      "f1:\n",
      "None: [0.82685512 0.98249125 0.98819742 0.88372093 0.88      ]\n",
      "micro: 0.9813637676971974\n",
      "macro: 0.9122529448845971\n",
      "weighted: 0.9814764504895857\n",
      "\n",
      "precision:\n",
      "None: [0.80689655 0.98743087 0.98734991 0.9047619  0.85436893]\n",
      "micro: 0.9813637676971974\n",
      "macro: 0.908161634509079\n",
      "weighted: 0.9816498252719217\n",
      "\n",
      "recall:\n",
      "None: [0.84782609 0.9776008  0.98904639 0.86363636 0.90721649]\n",
      "micro: 0.9813637676971974\n",
      "macro: 0.9170652267213901\n",
      "weighted: 0.9813637676971974\n",
      "\n",
      "roc_auc:\n",
      "macro: 0.996614351137679\n",
      "weighted: 0.9973484740942772\n",
      "baseline tz results:\n",
      "\n",
      "best_train_accuracy: 0.9661538461538461\n",
      "\n",
      "test_accuracy: 0.9627329192546584\n",
      "\n",
      "f1:\n",
      "None: [0.95192308 0.84126984 0.9815418  0.921875   0.98533724]\n",
      "micro: 0.9627329192546584\n",
      "macro: 0.9363893927966771\n",
      "weighted: 0.9626746891891028\n",
      "\n",
      "precision:\n",
      "None: [0.95652174 0.85483871 0.98474946 0.89393939 0.97674419]\n",
      "micro: 0.9627329192546584\n",
      "macro: 0.9333586968262899\n",
      "weighted: 0.9628063966146291\n",
      "\n",
      "recall:\n",
      "None: [0.94736842 0.828125   0.97835498 0.9516129  0.99408284]\n",
      "micro: 0.9627329192546584\n",
      "macro: 0.9399088285740206\n",
      "weighted: 0.9627329192546584\n",
      "\n",
      "roc_auc:\n",
      "macro: 0.993822378630121\n",
      "weighted: 0.9958258268704028\n"
     ]
    }
   ],
   "source": [
    "test_func(law_nan_features + law_zero_features + law_100_features, tz_nan_features + tz_zero_features + tz_100_features)"
   ]
  },
  {
   "cell_type": "markdown",
   "metadata": {},
   "source": [
    "__TEST 7:__"
   ]
  },
  {
   "cell_type": "code",
   "execution_count": 86,
   "metadata": {},
   "outputs": [
    {
     "name": "stdout",
     "output_type": "stream",
     "text": [
      "law data successfully preprocessed\n",
      "tz data successfully preprocessed\n",
      "starting cross validate\n",
      "starting cross validate\n",
      "baseline law results:\n",
      "\n",
      "best_train_accuracy: 0.9896602658788775\n",
      "\n",
      "test_accuracy: 0.9810748338630454\n",
      "\n",
      "f1:\n",
      "None: [0.83985765 0.98203593 0.98764636 0.9047619  0.87254902]\n",
      "micro: 0.9810748338630454\n",
      "macro: 0.9173701734986064\n",
      "weighted: 0.9811953224306453\n",
      "\n",
      "precision:\n",
      "None: [0.82517483 0.98449225 0.98796475 0.95       0.8317757 ]\n",
      "micro: 0.9810748338630454\n",
      "macro: 0.9158815052309335\n",
      "weighted: 0.9814020782415164\n",
      "\n",
      "recall:\n",
      "None: [0.85507246 0.97959184 0.98732818 0.86363636 0.91752577]\n",
      "micro: 0.9810748338630454\n",
      "macro: 0.9206309232058416\n",
      "weighted: 0.9810748338630454\n",
      "\n",
      "roc_auc:\n",
      "macro: 0.9975966424357467\n",
      "weighted: 0.9974036207051297\n",
      "baseline tz results:\n",
      "\n",
      "best_train_accuracy: 0.9670103092783505\n",
      "\n",
      "test_accuracy: 0.9554865424430642\n",
      "\n",
      "f1:\n",
      "None: [0.94230769 0.784      0.98047722 0.91338583 0.98245614]\n",
      "micro: 0.9554865424430642\n",
      "macro: 0.920525376571511\n",
      "weighted: 0.9552420226655028\n",
      "\n",
      "precision:\n",
      "None: [0.9468599  0.80327869 0.9826087  0.89230769 0.97109827]\n",
      "micro: 0.9554865424430642\n",
      "macro: 0.9192306491524105\n",
      "weighted: 0.9551837030260191\n",
      "\n",
      "recall:\n",
      "None: [0.93779904 0.765625   0.97835498 0.93548387 0.99408284]\n",
      "micro: 0.9554865424430642\n",
      "macro: 0.9222691465243216\n",
      "weighted: 0.9554865424430642\n",
      "\n",
      "roc_auc:\n",
      "macro: 0.9931124880258807\n",
      "weighted: 0.9954948893120751\n"
     ]
    }
   ],
   "source": [
    "test_func(law_nan_features + law_zero_features + law_1000_features, tz_nan_features + tz_zero_features + tz_1000_features)"
   ]
  },
  {
   "cell_type": "markdown",
   "metadata": {},
   "source": [
    "__TEST 8:__"
   ]
  },
  {
   "cell_type": "code",
   "execution_count": 87,
   "metadata": {},
   "outputs": [
    {
     "name": "stdout",
     "output_type": "stream",
     "text": [
      "law data successfully preprocessed\n",
      "tz data successfully preprocessed\n",
      "starting cross validate\n",
      "starting cross validate\n",
      "baseline law results:\n",
      "\n",
      "best_train_accuracy: 0.9901526341703595\n",
      "\n",
      "test_accuracy: 0.9803524992776654\n",
      "\n",
      "f1:\n",
      "None: [0.80286738 0.98327926 0.98754028 0.88372093 0.85853659]\n",
      "micro: 0.9803524992776654\n",
      "macro: 0.9031888879346595\n",
      "weighted: 0.9804841352769019\n",
      "\n",
      "precision:\n",
      "None: [0.79432624 0.98598599 0.98775247 0.9047619  0.81481481]\n",
      "micro: 0.9803524992776654\n",
      "macro: 0.8975282835380304\n",
      "weighted: 0.9806963552450486\n",
      "\n",
      "recall:\n",
      "None: [0.8115942  0.98058736 0.98732818 0.86363636 0.90721649]\n",
      "micro: 0.9803524992776654\n",
      "macro: 0.9100725193936821\n",
      "weighted: 0.9803524992776654\n",
      "\n",
      "roc_auc:\n",
      "macro: 0.9978091130107508\n",
      "weighted: 0.9975231735964939\n",
      "baseline tz results:\n",
      "\n",
      "best_train_accuracy: 0.9670103092783505\n",
      "\n",
      "test_accuracy: 0.9554865424430642\n",
      "\n",
      "f1:\n",
      "None: [0.94230769 0.784      0.98047722 0.91338583 0.98245614]\n",
      "micro: 0.9554865424430642\n",
      "macro: 0.920525376571511\n",
      "weighted: 0.9552420226655028\n",
      "\n",
      "precision:\n",
      "None: [0.9468599  0.80327869 0.9826087  0.89230769 0.97109827]\n",
      "micro: 0.9554865424430642\n",
      "macro: 0.9192306491524105\n",
      "weighted: 0.9551837030260191\n",
      "\n",
      "recall:\n",
      "None: [0.93779904 0.765625   0.97835498 0.93548387 0.99408284]\n",
      "micro: 0.9554865424430642\n",
      "macro: 0.9222691465243216\n",
      "weighted: 0.9554865424430642\n",
      "\n",
      "roc_auc:\n",
      "macro: 0.9931124880258807\n",
      "weighted: 0.9954948893120751\n"
     ]
    }
   ],
   "source": [
    "test_func(law_nan_features + law_zero_features + law_10000_features, tz_nan_features + tz_zero_features + tz_10000_features)"
   ]
  },
  {
   "cell_type": "markdown",
   "metadata": {},
   "source": [
    "__TEST 9:__"
   ]
  },
  {
   "cell_type": "code",
   "execution_count": 88,
   "metadata": {},
   "outputs": [
    {
     "name": "stdout",
     "output_type": "stream",
     "text": [
      "law data successfully preprocessed\n",
      "tz data successfully preprocessed\n",
      "starting cross validate\n",
      "starting cross validate\n",
      "baseline law results:\n",
      "\n",
      "best_train_accuracy: 0.9901526341703595\n",
      "\n",
      "test_accuracy: 0.9806414331118174\n",
      "\n",
      "f1:\n",
      "None: [0.82105263 0.98327926 0.98774721 0.85714286 0.85436893]\n",
      "micro: 0.9806414331118174\n",
      "macro: 0.9007181775112774\n",
      "weighted: 0.9808429958367418\n",
      "\n",
      "precision:\n",
      "None: [0.79591837 0.98598599 0.98859725 0.9        0.80733945]\n",
      "micro: 0.9806414331118174\n",
      "macro: 0.8955682098003152\n",
      "weighted: 0.981176435295326\n",
      "\n",
      "recall:\n",
      "None: [0.84782609 0.98058736 0.98689863 0.81818182 0.90721649]\n",
      "micro: 0.9806414331118174\n",
      "macro: 0.9081420764614464\n",
      "weighted: 0.9806414331118174\n",
      "\n",
      "roc_auc:\n",
      "macro: 0.9976276551336133\n",
      "weighted: 0.9973793180295351\n",
      "baseline tz results:\n",
      "\n",
      "best_train_accuracy: 0.9752577319587629\n",
      "\n",
      "test_accuracy: 0.9648033126293996\n",
      "\n",
      "f1:\n",
      "None: [0.95192308 0.83464567 0.98371336 0.9375     0.98823529]\n",
      "micro: 0.9648033126293996\n",
      "macro: 0.9392034790761844\n",
      "weighted: 0.9647842449793214\n",
      "\n",
      "precision:\n",
      "None: [0.95652174 0.84126984 0.9869281  0.90909091 0.98245614]\n",
      "micro: 0.9648033126293996\n",
      "macro: 0.9352533468834452\n",
      "weighted: 0.9649211404929512\n",
      "\n",
      "recall:\n",
      "None: [0.94736842 0.828125   0.98051948 0.96774194 0.99408284]\n",
      "micro: 0.9648033126293996\n",
      "macro: 0.9435675354585339\n",
      "weighted: 0.9648033126293996\n",
      "\n",
      "roc_auc:\n",
      "macro: 0.9927650482464807\n",
      "weighted: 0.9955346735461348\n"
     ]
    }
   ],
   "source": [
    "test_func(law_zero_features, tz_zero_features)"
   ]
  },
  {
   "cell_type": "markdown",
   "metadata": {},
   "source": [
    "__TEST 10:__"
   ]
  },
  {
   "cell_type": "code",
   "execution_count": 89,
   "metadata": {},
   "outputs": [
    {
     "name": "stdout",
     "output_type": "stream",
     "text": [
      "law data successfully preprocessed\n",
      "tz data successfully preprocessed\n",
      "starting cross validate\n",
      "starting cross validate\n",
      "baseline law results:\n",
      "\n",
      "best_train_accuracy: 0.9890267175572519\n",
      "\n",
      "test_accuracy: 0.9806414331118174\n",
      "\n",
      "f1:\n",
      "None: [0.82926829 0.98354935 0.987094   0.85714286 0.86829268]\n",
      "micro: 0.9806414331118174\n",
      "macro: 0.9050694366812362\n",
      "weighted: 0.9808409222100677\n",
      "\n",
      "precision:\n",
      "None: [0.79865772 0.98502247 0.98858251 0.9        0.82407407]\n",
      "micro: 0.9806414331118174\n",
      "macro: 0.8992673532070563\n",
      "weighted: 0.9811759954043945\n",
      "\n",
      "recall:\n",
      "None: [0.86231884 0.98208064 0.98560997 0.81818182 0.91752577]\n",
      "micro: 0.9806414331118174\n",
      "macro: 0.9131434069452092\n",
      "weighted: 0.9806414331118174\n",
      "\n",
      "roc_auc:\n",
      "macro: 0.9977933460713337\n",
      "weighted: 0.997522774753772\n",
      "baseline tz results:\n",
      "\n",
      "best_train_accuracy: 0.9670103092783505\n",
      "\n",
      "test_accuracy: 0.9575569358178054\n",
      "\n",
      "f1:\n",
      "None: [0.93975904 0.80620155 0.98047722 0.92063492 0.98823529]\n",
      "micro: 0.9575569358178054\n",
      "macro: 0.9270616049424149\n",
      "weighted: 0.9576378310431654\n",
      "\n",
      "precision:\n",
      "None: [0.94660194 0.8        0.9826087  0.90625    0.98245614]\n",
      "micro: 0.9575569358178054\n",
      "macro: 0.9235833555501248\n",
      "weighted: 0.9577925579046018\n",
      "\n",
      "recall:\n",
      "None: [0.93301435 0.8125     0.97835498 0.93548387 0.99408284]\n",
      "micro: 0.9575569358178054\n",
      "macro: 0.9306872087252784\n",
      "weighted: 0.9575569358178054\n",
      "\n",
      "roc_auc:\n",
      "macro: 0.9927708201987688\n",
      "weighted: 0.9952323990105175\n"
     ]
    }
   ],
   "source": [
    "test_func(law_zero_features + law_100_features, tz_zero_features + tz_100_features)"
   ]
  },
  {
   "cell_type": "markdown",
   "metadata": {},
   "source": [
    "__TEST 11:__"
   ]
  },
  {
   "cell_type": "code",
   "execution_count": 90,
   "metadata": {},
   "outputs": [
    {
     "name": "stdout",
     "output_type": "stream",
     "text": [
      "law data successfully preprocessed\n",
      "tz data successfully preprocessed\n",
      "starting cross validate\n",
      "starting cross validate\n",
      "baseline law results:\n",
      "\n",
      "best_train_accuracy: 0.9890267175572519\n",
      "\n",
      "test_accuracy: 0.9806414331118174\n",
      "\n",
      "f1:\n",
      "None: [0.82926829 0.98354935 0.987094   0.85714286 0.86829268]\n",
      "micro: 0.9806414331118174\n",
      "macro: 0.9050694366812362\n",
      "weighted: 0.9808409222100677\n",
      "\n",
      "precision:\n",
      "None: [0.79865772 0.98502247 0.98858251 0.9        0.82407407]\n",
      "micro: 0.9806414331118174\n",
      "macro: 0.8992673532070563\n",
      "weighted: 0.9811759954043945\n",
      "\n",
      "recall:\n",
      "None: [0.86231884 0.98208064 0.98560997 0.81818182 0.91752577]\n",
      "micro: 0.9806414331118174\n",
      "macro: 0.9131434069452092\n",
      "weighted: 0.9806414331118174\n",
      "\n",
      "roc_auc:\n",
      "macro: 0.9977933460713337\n",
      "weighted: 0.997522774753772\n",
      "baseline tz results:\n",
      "\n",
      "best_train_accuracy: 0.9670103092783505\n",
      "\n",
      "test_accuracy: 0.9575569358178054\n",
      "\n",
      "f1:\n",
      "None: [0.94964029 0.816      0.97826087 0.90625    0.98245614]\n",
      "micro: 0.9575569358178054\n",
      "macro: 0.9265214595371758\n",
      "weighted: 0.9574305689464944\n",
      "\n",
      "precision:\n",
      "None: [0.95192308 0.83606557 0.98253275 0.87878788 0.97109827]\n",
      "micro: 0.9575569358178054\n",
      "macro: 0.9240815092938209\n",
      "weighted: 0.9575473149315382\n",
      "\n",
      "recall:\n",
      "None: [0.94736842 0.796875   0.97402597 0.93548387 0.99408284]\n",
      "micro: 0.9575569358178054\n",
      "macro: 0.9295672212566067\n",
      "weighted: 0.9575569358178054\n",
      "\n",
      "roc_auc:\n",
      "macro: 0.9922004619565158\n",
      "weighted: 0.9950894724161929\n"
     ]
    }
   ],
   "source": [
    "test_func(law_zero_features + law_1000_features, tz_zero_features + tz_1000_features)"
   ]
  },
  {
   "cell_type": "markdown",
   "metadata": {},
   "source": [
    "__TEST 12:__"
   ]
  },
  {
   "cell_type": "code",
   "execution_count": 91,
   "metadata": {},
   "outputs": [
    {
     "name": "stdout",
     "output_type": "stream",
     "text": [
      "law data successfully preprocessed\n",
      "tz data successfully preprocessed\n",
      "starting cross validate\n",
      "starting cross validate\n",
      "baseline law results:\n",
      "\n",
      "best_train_accuracy: 0.9881831610044313\n",
      "\n",
      "test_accuracy: 0.9804969661947414\n",
      "\n",
      "f1:\n",
      "None: [0.82068966 0.98350825 0.98731728 0.88372093 0.85853659]\n",
      "micro: 0.9804969661947414\n",
      "macro: 0.9067545399073934\n",
      "weighted: 0.9807559111178807\n",
      "\n",
      "precision:\n",
      "None: [0.78289474 0.9874561  0.98816695 0.9047619  0.81481481]\n",
      "micro: 0.9804969661947414\n",
      "macro: 0.8956189012568808\n",
      "weighted: 0.9811739245587449\n",
      "\n",
      "recall:\n",
      "None: [0.86231884 0.97959184 0.98646907 0.86363636 0.90721649]\n",
      "micro: 0.9804969661947414\n",
      "macro: 0.9198465215922154\n",
      "weighted: 0.9804969661947414\n",
      "\n",
      "roc_auc:\n",
      "macro: 0.9977678115292508\n",
      "weighted: 0.9976149852657478\n",
      "baseline tz results:\n",
      "\n",
      "best_train_accuracy: 0.9670103092783505\n",
      "\n",
      "test_accuracy: 0.9575569358178054\n",
      "\n",
      "f1:\n",
      "None: [0.94964029 0.816      0.97826087 0.90625    0.98245614]\n",
      "micro: 0.9575569358178054\n",
      "macro: 0.9265214595371758\n",
      "weighted: 0.9574305689464944\n",
      "\n",
      "precision:\n",
      "None: [0.95192308 0.83606557 0.98253275 0.87878788 0.97109827]\n",
      "micro: 0.9575569358178054\n",
      "macro: 0.9240815092938209\n",
      "weighted: 0.9575473149315382\n",
      "\n",
      "recall:\n",
      "None: [0.94736842 0.796875   0.97402597 0.93548387 0.99408284]\n",
      "micro: 0.9575569358178054\n",
      "macro: 0.9295672212566067\n",
      "weighted: 0.9575569358178054\n",
      "\n",
      "roc_auc:\n",
      "macro: 0.9922004619565158\n",
      "weighted: 0.9950894724161929\n"
     ]
    }
   ],
   "source": [
    "test_func(law_zero_features + law_10000_features, tz_zero_features + tz_10000_features)"
   ]
  },
  {
   "cell_type": "markdown",
   "metadata": {},
   "source": [
    "__TEST 13:__"
   ]
  },
  {
   "cell_type": "code",
   "execution_count": 92,
   "metadata": {},
   "outputs": [
    {
     "name": "stdout",
     "output_type": "stream",
     "text": [
      "law data successfully preprocessed\n",
      "tz data successfully preprocessed\n",
      "starting cross validate\n",
      "starting cross validate\n",
      "baseline law results:\n",
      "\n",
      "best_train_accuracy: 0.9867060561299852\n",
      "\n",
      "test_accuracy: 0.9815082346142733\n",
      "\n",
      "f1:\n",
      "None: [0.8409894  0.98172716 0.9883135  0.9047619  0.87309645]\n",
      "micro: 0.9815082346142733\n",
      "macro: 0.9177776816299517\n",
      "weighted: 0.9815846815120995\n",
      "\n",
      "precision:\n",
      "None: [0.82068966 0.98741188 0.98672661 0.95       0.86      ]\n",
      "micro: 0.9815082346142733\n",
      "macro: 0.9209656298717516\n",
      "weighted: 0.9817227313727137\n",
      "\n",
      "recall:\n",
      "None: [0.86231884 0.97610752 0.9899055  0.86363636 0.88659794]\n",
      "micro: 0.9815082346142733\n",
      "macro: 0.9157132313638787\n",
      "weighted: 0.9815082346142733\n",
      "\n",
      "roc_auc:\n",
      "macro: 0.9978059218560491\n",
      "weighted: 0.9975318895245651\n",
      "baseline tz results:\n",
      "\n",
      "best_train_accuracy: 0.9670103092783505\n",
      "\n",
      "test_accuracy: 0.9544513457556936\n",
      "\n",
      "f1:\n",
      "None: [0.9375     0.78740157 0.98047722 0.92063492 0.97947214]\n",
      "micro: 0.9544513457556936\n",
      "macro: 0.9210971719255732\n",
      "weighted: 0.9543704294814184\n",
      "\n",
      "precision:\n",
      "None: [0.94202899 0.79365079 0.9826087  0.90625    0.97093023]\n",
      "micro: 0.9544513457556936\n",
      "macro: 0.9190937414736707\n",
      "weighted: 0.9543660822549641\n",
      "\n",
      "recall:\n",
      "None: [0.93301435 0.78125    0.97835498 0.93548387 0.98816568]\n",
      "micro: 0.9544513457556936\n",
      "macro: 0.9232537767726157\n",
      "weighted: 0.9544513457556936\n",
      "\n",
      "roc_auc:\n",
      "macro: 0.9921246006583528\n",
      "weighted: 0.9948214456176939\n"
     ]
    }
   ],
   "source": [
    "test_func(law_100_features, tz_100_features)"
   ]
  },
  {
   "cell_type": "markdown",
   "metadata": {},
   "source": [
    "__TEST 14:__"
   ]
  },
  {
   "cell_type": "code",
   "execution_count": 93,
   "metadata": {
    "scrolled": true
   },
   "outputs": [
    {
     "name": "stdout",
     "output_type": "stream",
     "text": [
      "law data successfully preprocessed\n",
      "tz data successfully preprocessed\n",
      "starting cross validate\n",
      "starting cross validate\n",
      "baseline law results:\n",
      "\n",
      "best_train_accuracy: 0.9867060561299852\n",
      "\n",
      "test_accuracy: 0.9825195030338053\n",
      "\n",
      "f1:\n",
      "None: [0.84507042 0.98323743 0.98905814 0.9047619  0.87437186]\n",
      "micro: 0.9825195030338053\n",
      "macro: 0.9192999513388518\n",
      "weighted: 0.9826231223419499\n",
      "\n",
      "precision:\n",
      "None: [0.82191781 0.98843058 0.98799829 0.95       0.85294118]\n",
      "micro: 0.9825195030338053\n",
      "macro: 0.920257570732025\n",
      "weighted: 0.982799337048645\n",
      "\n",
      "recall:\n",
      "None: [0.86956522 0.97809856 0.99012027 0.86363636 0.89690722]\n",
      "micro: 0.9825195030338053\n",
      "macro: 0.9196655257864744\n",
      "weighted: 0.9825195030338053\n",
      "\n",
      "roc_auc:\n",
      "macro: 0.9976859745481483\n",
      "weighted: 0.997513044128292\n",
      "baseline tz results:\n",
      "\n",
      "best_train_accuracy: 0.9649484536082474\n",
      "\n",
      "test_accuracy: 0.9554865424430642\n",
      "\n",
      "f1:\n",
      "None: [0.93779904 0.80645161 0.97937025 0.92063492 0.97959184]\n",
      "micro: 0.9554865424430642\n",
      "macro: 0.9247695326127194\n",
      "weighted: 0.9551887619957843\n",
      "\n",
      "precision:\n",
      "None: [0.93779904 0.83333333 0.98257081 0.90625    0.96551724]\n",
      "micro: 0.9554865424430642\n",
      "macro: 0.9250940847750126\n",
      "weighted: 0.9551148649531443\n",
      "\n",
      "recall:\n",
      "None: [0.93779904 0.78125    0.97619048 0.93548387 0.99408284]\n",
      "micro: 0.9554865424430642\n",
      "macro: 0.924961246091421\n",
      "weighted: 0.9554865424430642\n",
      "\n",
      "roc_auc:\n",
      "macro: 0.9919982638337206\n",
      "weighted: 0.9948332944594153\n"
     ]
    }
   ],
   "source": [
    "test_func(law_1000_features, tz_1000_features)"
   ]
  },
  {
   "cell_type": "markdown",
   "metadata": {},
   "source": [
    "__TEST 15:__"
   ]
  },
  {
   "cell_type": "code",
   "execution_count": 94,
   "metadata": {},
   "outputs": [
    {
     "name": "stdout",
     "output_type": "stream",
     "text": [
      "law data successfully preprocessed\n",
      "tz data successfully preprocessed\n",
      "starting cross validate\n",
      "starting cross validate\n",
      "baseline law results:\n",
      "\n",
      "best_train_accuracy: 0.9891678975873953\n",
      "\n",
      "test_accuracy: 0.9833863045362612\n",
      "\n",
      "f1:\n",
      "None: [0.84397163 0.98574644 0.98916658 0.9047619  0.87878788]\n",
      "micro: 0.9833863045362612\n",
      "macro: 0.9204868857293199\n",
      "weighted: 0.9834642366695038\n",
      "\n",
      "precision:\n",
      "None: [0.82638889 0.99045226 0.98800086 0.95       0.86138614]\n",
      "micro: 0.9833863045362612\n",
      "macro: 0.9232456291781841\n",
      "weighted: 0.9835953056413085\n",
      "\n",
      "recall:\n",
      "None: [0.86231884 0.98108512 0.99033505 0.86363636 0.89690722]\n",
      "micro: 0.9833863045362612\n",
      "macro: 0.9188565178461859\n",
      "weighted: 0.9833863045362612\n",
      "\n",
      "roc_auc:\n",
      "macro: 0.9974390913509753\n",
      "weighted: 0.9975764657210031\n",
      "baseline tz results:\n",
      "\n",
      "best_train_accuracy: 0.9649484536082474\n",
      "\n",
      "test_accuracy: 0.9554865424430642\n",
      "\n",
      "f1:\n",
      "None: [0.93779904 0.80645161 0.97937025 0.92063492 0.97959184]\n",
      "micro: 0.9554865424430642\n",
      "macro: 0.9247695326127194\n",
      "weighted: 0.9551887619957843\n",
      "\n",
      "precision:\n",
      "None: [0.93779904 0.83333333 0.98257081 0.90625    0.96551724]\n",
      "micro: 0.9554865424430642\n",
      "macro: 0.9250940847750126\n",
      "weighted: 0.9551148649531443\n",
      "\n",
      "recall:\n",
      "None: [0.93779904 0.78125    0.97619048 0.93548387 0.99408284]\n",
      "micro: 0.9554865424430642\n",
      "macro: 0.924961246091421\n",
      "weighted: 0.9554865424430642\n",
      "\n",
      "roc_auc:\n",
      "macro: 0.9919982638337206\n",
      "weighted: 0.9948332944594153\n"
     ]
    }
   ],
   "source": [
    "test_func(law_10000_features, tz_10000_features)"
   ]
  }
 ],
 "metadata": {
  "kernelspec": {
   "display_name": "Python 3",
   "language": "python",
   "name": "python3"
  },
  "language_info": {
   "codemirror_mode": {
    "name": "ipython",
    "version": 3
   },
   "file_extension": ".py",
   "mimetype": "text/x-python",
   "name": "python",
   "nbconvert_exporter": "python",
   "pygments_lexer": "ipython3",
   "version": "3.8.10"
  }
 },
 "nbformat": 4,
 "nbformat_minor": 4
}
